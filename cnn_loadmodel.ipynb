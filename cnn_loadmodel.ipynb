{
 "cells": [
  {
   "cell_type": "code",
   "execution_count": 2,
   "id": "a792fe34-4f82-4be1-8d7d-dc5297f57a41",
   "metadata": {},
   "outputs": [
    {
     "name": "stderr",
     "output_type": "stream",
     "text": [
      "2023-10-26 14:27:12.538838: I tensorflow/tsl/cuda/cudart_stub.cc:28] Could not find cuda drivers on your machine, GPU will not be used.\n",
      "2023-10-26 14:27:12.911051: E tensorflow/compiler/xla/stream_executor/cuda/cuda_dnn.cc:9342] Unable to register cuDNN factory: Attempting to register factory for plugin cuDNN when one has already been registered\n",
      "2023-10-26 14:27:12.911084: E tensorflow/compiler/xla/stream_executor/cuda/cuda_fft.cc:609] Unable to register cuFFT factory: Attempting to register factory for plugin cuFFT when one has already been registered\n",
      "2023-10-26 14:27:12.913044: E tensorflow/compiler/xla/stream_executor/cuda/cuda_blas.cc:1518] Unable to register cuBLAS factory: Attempting to register factory for plugin cuBLAS when one has already been registered\n",
      "2023-10-26 14:27:13.109898: I tensorflow/tsl/cuda/cudart_stub.cc:28] Could not find cuda drivers on your machine, GPU will not be used.\n",
      "2023-10-26 14:27:13.112078: I tensorflow/core/platform/cpu_feature_guard.cc:182] This TensorFlow binary is optimized to use available CPU instructions in performance-critical operations.\n",
      "To enable the following instructions: AVX2 FMA, in other operations, rebuild TensorFlow with the appropriate compiler flags.\n",
      "2023-10-26 14:27:14.349107: W tensorflow/compiler/tf2tensorrt/utils/py_utils.cc:38] TF-TRT Warning: Could not find TensorRT\n"
     ]
    }
   ],
   "source": [
    "from tensorflow.keras.models import load_model\n",
    "from tensorflow.keras.preprocessing import image\n",
    "from tensorflow.keras.preprocessing.image import ImageDataGenerator\n",
    "import numpy as np\n",
    "import os\n",
    "\n",
    "# !pip install ipywidgets\n",
    "# !jupyter nbextension enable --py widgetsnbextension\n",
    "# !jupyter labextension install @jupyter-widgets/jupyterlab-manager"
   ]
  },
  {
   "cell_type": "code",
   "execution_count": 9,
   "id": "674593f2-0ea3-4a89-99b8-13789bd08135",
   "metadata": {},
   "outputs": [],
   "source": [
    "CURRENT_DIR = os.getcwd()\n",
    "MODEL_NAME = '202310221831.h5'\n",
    "TEST_IMAGE = 'TestImages/test2_Bruguiera_gymnorrhiza.JPG'\n",
    "DATASETS_DIR = 'Datasets'\n",
    "BATCH_SIZE = 4"
   ]
  },
  {
   "cell_type": "code",
   "execution_count": 10,
   "id": "d78b10d9-b76e-4cc4-845f-25c2e9924d9b",
   "metadata": {},
   "outputs": [
    {
     "name": "stdout",
     "output_type": "stream",
     "text": [
      "Found 1590 images belonging to 8 classes.\n"
     ]
    }
   ],
   "source": [
    "train_datagen = ImageDataGenerator(rescale=1./255, shear_range=0.2, zoom_range=0.2, horizontal_flip=True)\n",
    "train_generator = train_datagen.flow_from_directory(os.path.join(CURRENT_DIR, DATASETS_DIR), \n",
    "                                                    target_size=(150, 150), \n",
    "                                                    batch_size=BATCH_SIZE, \n",
    "                                                    class_mode='categorical')\n",
    "\n",
    "model = load_model(os.path.join(CURRENT_DIR, MODEL_NAME))\n",
    "\n",
    "# model.summary()"
   ]
  },
  {
   "cell_type": "code",
   "execution_count": 11,
   "id": "6226aaec-f07c-45fa-9b95-76dc7e538a73",
   "metadata": {},
   "outputs": [
    {
     "name": "stdout",
     "output_type": "stream",
     "text": [
      "1/1 [==============================] - 0s 64ms/step\n",
      "The predicted class is: Bruguiera gymnorrhiza\n"
     ]
    }
   ],
   "source": [
    "img_path = os.path.join(CURRENT_DIR, TEST_IMAGE)  # Provide the correct path to the test image\n",
    "img = image.load_img(img_path, target_size=(150, 150))  # Resize the image to the target size\n",
    "x = image.img_to_array(img)\n",
    "x = np.expand_dims(x, axis=0)\n",
    "x = x / 255.0  # Rescale the pixel values to the range [0, 1]\n",
    "\n",
    "# Make predictions\n",
    "predictions = model.predict(x)\n",
    "\n",
    "# Get the predicted class index\n",
    "predicted_class_idx = np.argmax(predictions, axis=1)[0]\n",
    "\n",
    "# Get the class labels from the generator\n",
    "class_labels = train_generator.class_indices\n",
    "\n",
    "# Get the class name corresponding to the predicted class index\n",
    "predicted_class_name = [k for k, v in class_labels.items() if v == predicted_class_idx][0]\n",
    "\n",
    "# Print the predicted class name\n",
    "print(f\"The predicted class is: {predicted_class_name}\")"
   ]
  },
  {
   "cell_type": "code",
   "execution_count": 9,
   "id": "7fb2ca38-3b41-4718-bc2e-dcc0902bc73a",
   "metadata": {},
   "outputs": [
    {
     "data": {
      "text/plain": [
       "{'Avicennia alba': 0,\n",
       " 'Bruguiera cylindrica': 1,\n",
       " 'Bruguiera gymnorrhiza': 2,\n",
       " 'Lumnitzera littorea': 3,\n",
       " 'Rhizophora apiculata': 4,\n",
       " 'Rhizophora mucronata': 5,\n",
       " 'Sonneratia alba': 6,\n",
       " 'Xylocarpus granatum': 7}"
      ]
     },
     "execution_count": 9,
     "metadata": {},
     "output_type": "execute_result"
    }
   ],
   "source": [
    "class_labels"
   ]
  },
  {
   "cell_type": "code",
   "execution_count": null,
   "id": "4d96afc6-9bd7-4e36-b60c-4e77406477a2",
   "metadata": {},
   "outputs": [],
   "source": []
  }
 ],
 "metadata": {
  "kernelspec": {
   "display_name": "Python 3 (ipykernel)",
   "language": "python",
   "name": "python3"
  },
  "language_info": {
   "codemirror_mode": {
    "name": "ipython",
    "version": 3
   },
   "file_extension": ".py",
   "mimetype": "text/x-python",
   "name": "python",
   "nbconvert_exporter": "python",
   "pygments_lexer": "ipython3",
   "version": "3.10.12"
  }
 },
 "nbformat": 4,
 "nbformat_minor": 5
}
